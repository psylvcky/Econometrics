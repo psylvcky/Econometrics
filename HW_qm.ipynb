{
 "cells": [
  {
   "cell_type": "code",
   "execution_count": 5,
   "id": "e6edf6a4",
   "metadata": {},
   "outputs": [],
   "source": [
    "import numpy as np         # библиотека для матриц и математики\n",
    "import pandas as pd        # библиотека для работы с табличками\n",
    "from scipy import stats    # модуль для работы со статистикой\n",
    "\n",
    "import matplotlib.pyplot as plt\n",
    "import seaborn as sns"
   ]
  },
  {
   "cell_type": "code",
   "execution_count": 6,
   "id": "0850b2f2",
   "metadata": {},
   "outputs": [
    {
     "data": {
      "text/html": [
       "<div>\n",
       "<style scoped>\n",
       "    .dataframe tbody tr th:only-of-type {\n",
       "        vertical-align: middle;\n",
       "    }\n",
       "\n",
       "    .dataframe tbody tr th {\n",
       "        vertical-align: top;\n",
       "    }\n",
       "\n",
       "    .dataframe thead th {\n",
       "        text-align: right;\n",
       "    }\n",
       "</style>\n",
       "<table border=\"1\" class=\"dataframe\">\n",
       "  <thead>\n",
       "    <tr style=\"text-align: right;\">\n",
       "      <th></th>\n",
       "      <th>idind</th>\n",
       "      <th>psu</th>\n",
       "      <th>status</th>\n",
       "      <th>age</th>\n",
       "      <th>male</th>\n",
       "      <th>industry</th>\n",
       "      <th>lnwage</th>\n",
       "      <th>public</th>\n",
       "      <th>internet</th>\n",
       "      <th>children</th>\n",
       "      <th>...</th>\n",
       "      <th>id66</th>\n",
       "      <th>id67</th>\n",
       "      <th>id68</th>\n",
       "      <th>id69</th>\n",
       "      <th>id70</th>\n",
       "      <th>id71</th>\n",
       "      <th>id72</th>\n",
       "      <th>id73</th>\n",
       "      <th>id74</th>\n",
       "      <th>id75</th>\n",
       "    </tr>\n",
       "  </thead>\n",
       "  <tbody>\n",
       "    <tr>\n",
       "      <th>0</th>\n",
       "      <td>37</td>\n",
       "      <td>Волосовский</td>\n",
       "      <td>ПГТ</td>\n",
       "      <td>60</td>\n",
       "      <td>1</td>\n",
       "      <td>НАУКА, КУЛЬТ</td>\n",
       "      <td>9.104980</td>\n",
       "      <td>0</td>\n",
       "      <td>1</td>\n",
       "      <td>2</td>\n",
       "      <td>...</td>\n",
       "      <td>0</td>\n",
       "      <td>0</td>\n",
       "      <td>0</td>\n",
       "      <td>0</td>\n",
       "      <td>0</td>\n",
       "      <td>0</td>\n",
       "      <td>0</td>\n",
       "      <td>0</td>\n",
       "      <td>1</td>\n",
       "      <td>0</td>\n",
       "    </tr>\n",
       "    <tr>\n",
       "      <th>1</th>\n",
       "      <td>122</td>\n",
       "      <td>Волосовский</td>\n",
       "      <td>Село</td>\n",
       "      <td>41</td>\n",
       "      <td>0</td>\n",
       "      <td>ОБРАЗОВАНИЕ</td>\n",
       "      <td>10.778960</td>\n",
       "      <td>1</td>\n",
       "      <td>1</td>\n",
       "      <td>1</td>\n",
       "      <td>...</td>\n",
       "      <td>1</td>\n",
       "      <td>0</td>\n",
       "      <td>0</td>\n",
       "      <td>0</td>\n",
       "      <td>1</td>\n",
       "      <td>0</td>\n",
       "      <td>0</td>\n",
       "      <td>0</td>\n",
       "      <td>1</td>\n",
       "      <td>0</td>\n",
       "    </tr>\n",
       "    <tr>\n",
       "      <th>2</th>\n",
       "      <td>125</td>\n",
       "      <td>Волосовский</td>\n",
       "      <td>Село</td>\n",
       "      <td>54</td>\n",
       "      <td>0</td>\n",
       "      <td>СЕЛЬСКОЕ ХОЗ</td>\n",
       "      <td>10.491270</td>\n",
       "      <td>0</td>\n",
       "      <td>1</td>\n",
       "      <td>3</td>\n",
       "      <td>...</td>\n",
       "      <td>0</td>\n",
       "      <td>0</td>\n",
       "      <td>0</td>\n",
       "      <td>0</td>\n",
       "      <td>0</td>\n",
       "      <td>0</td>\n",
       "      <td>0</td>\n",
       "      <td>0</td>\n",
       "      <td>0</td>\n",
       "      <td>1</td>\n",
       "    </tr>\n",
       "    <tr>\n",
       "      <th>3</th>\n",
       "      <td>126</td>\n",
       "      <td>Волосовский</td>\n",
       "      <td>Село</td>\n",
       "      <td>48</td>\n",
       "      <td>1</td>\n",
       "      <td>СЕЛЬСКОЕ ХОЗ</td>\n",
       "      <td>9.903487</td>\n",
       "      <td>0</td>\n",
       "      <td>0</td>\n",
       "      <td>1</td>\n",
       "      <td>...</td>\n",
       "      <td>0</td>\n",
       "      <td>0</td>\n",
       "      <td>0</td>\n",
       "      <td>0</td>\n",
       "      <td>0</td>\n",
       "      <td>0</td>\n",
       "      <td>0</td>\n",
       "      <td>0</td>\n",
       "      <td>0</td>\n",
       "      <td>1</td>\n",
       "    </tr>\n",
       "    <tr>\n",
       "      <th>4</th>\n",
       "      <td>132</td>\n",
       "      <td>Волосовский</td>\n",
       "      <td>Село</td>\n",
       "      <td>55</td>\n",
       "      <td>0</td>\n",
       "      <td>ЗДРАВООХРАНЕ</td>\n",
       "      <td>10.308950</td>\n",
       "      <td>1</td>\n",
       "      <td>1</td>\n",
       "      <td>1</td>\n",
       "      <td>...</td>\n",
       "      <td>1</td>\n",
       "      <td>0</td>\n",
       "      <td>0</td>\n",
       "      <td>0</td>\n",
       "      <td>0</td>\n",
       "      <td>0</td>\n",
       "      <td>0</td>\n",
       "      <td>0</td>\n",
       "      <td>1</td>\n",
       "      <td>0</td>\n",
       "    </tr>\n",
       "  </tbody>\n",
       "</table>\n",
       "<p>5 rows × 87 columns</p>\n",
       "</div>"
      ],
      "text/plain": [
       "   idind          psu status  age  male      industry     lnwage  public  \\\n",
       "0     37  Волосовский    ПГТ   60     1  НАУКА, КУЛЬТ   9.104980       0   \n",
       "1    122  Волосовский   Село   41     0   ОБРАЗОВАНИЕ  10.778960       1   \n",
       "2    125  Волосовский   Село   54     0  СЕЛЬСКОЕ ХОЗ  10.491270       0   \n",
       "3    126  Волосовский   Село   48     1  СЕЛЬСКОЕ ХОЗ   9.903487       0   \n",
       "4    132  Волосовский   Село   55     0  ЗДРАВООХРАНЕ  10.308950       1   \n",
       "\n",
       "   internet  children  ...  id66  id67  id68  id69  id70  id71  id72  id73  \\\n",
       "0         1         2  ...     0     0     0     0     0     0     0     0   \n",
       "1         1         1  ...     1     0     0     0     1     0     0     0   \n",
       "2         1         3  ...     0     0     0     0     0     0     0     0   \n",
       "3         0         1  ...     0     0     0     0     0     0     0     0   \n",
       "4         1         1  ...     1     0     0     0     0     0     0     0   \n",
       "\n",
       "   id74  id75  \n",
       "0     1     0  \n",
       "1     1     0  \n",
       "2     0     1  \n",
       "3     0     1  \n",
       "4     1     0  \n",
       "\n",
       "[5 rows x 87 columns]"
      ]
     },
     "execution_count": 6,
     "metadata": {},
     "output_type": "execute_result"
    }
   ],
   "source": [
    "df = pd.read_excel('Homework_2022.xlsx')\n",
    "df.head()"
   ]
  },
  {
   "cell_type": "code",
   "execution_count": 7,
   "id": "9eb81aa9",
   "metadata": {},
   "outputs": [
    {
     "data": {
      "text/html": [
       "<div>\n",
       "<style scoped>\n",
       "    .dataframe tbody tr th:only-of-type {\n",
       "        vertical-align: middle;\n",
       "    }\n",
       "\n",
       "    .dataframe tbody tr th {\n",
       "        vertical-align: top;\n",
       "    }\n",
       "\n",
       "    .dataframe thead th {\n",
       "        text-align: right;\n",
       "    }\n",
       "</style>\n",
       "<table border=\"1\" class=\"dataframe\">\n",
       "  <thead>\n",
       "    <tr style=\"text-align: right;\">\n",
       "      <th></th>\n",
       "      <th>idind</th>\n",
       "      <th>psu</th>\n",
       "      <th>status</th>\n",
       "      <th>age</th>\n",
       "      <th>male</th>\n",
       "      <th>industry</th>\n",
       "      <th>lnwage</th>\n",
       "      <th>public</th>\n",
       "      <th>internet</th>\n",
       "      <th>children</th>\n",
       "      <th>...</th>\n",
       "      <th>id66</th>\n",
       "      <th>id67</th>\n",
       "      <th>id68</th>\n",
       "      <th>id69</th>\n",
       "      <th>id70</th>\n",
       "      <th>id71</th>\n",
       "      <th>id72</th>\n",
       "      <th>id73</th>\n",
       "      <th>id74</th>\n",
       "      <th>id75</th>\n",
       "    </tr>\n",
       "  </thead>\n",
       "  <tbody>\n",
       "    <tr>\n",
       "      <th>151</th>\n",
       "      <td>3194</td>\n",
       "      <td>Курьинский р</td>\n",
       "      <td>Село</td>\n",
       "      <td>57</td>\n",
       "      <td>1</td>\n",
       "      <td>ЖИЛИЩНО-КОММ</td>\n",
       "      <td>9.392662</td>\n",
       "      <td>0</td>\n",
       "      <td>1</td>\n",
       "      <td>1</td>\n",
       "      <td>...</td>\n",
       "      <td>0</td>\n",
       "      <td>0</td>\n",
       "      <td>0</td>\n",
       "      <td>0</td>\n",
       "      <td>0</td>\n",
       "      <td>0</td>\n",
       "      <td>0</td>\n",
       "      <td>0</td>\n",
       "      <td>0</td>\n",
       "      <td>0</td>\n",
       "    </tr>\n",
       "    <tr>\n",
       "      <th>152</th>\n",
       "      <td>3232</td>\n",
       "      <td>Курьинский р</td>\n",
       "      <td>Село</td>\n",
       "      <td>49</td>\n",
       "      <td>0</td>\n",
       "      <td>НАУКА, КУЛЬТ</td>\n",
       "      <td>10.373490</td>\n",
       "      <td>1</td>\n",
       "      <td>1</td>\n",
       "      <td>2</td>\n",
       "      <td>...</td>\n",
       "      <td>0</td>\n",
       "      <td>0</td>\n",
       "      <td>0</td>\n",
       "      <td>0</td>\n",
       "      <td>0</td>\n",
       "      <td>0</td>\n",
       "      <td>0</td>\n",
       "      <td>0</td>\n",
       "      <td>1</td>\n",
       "      <td>0</td>\n",
       "    </tr>\n",
       "    <tr>\n",
       "      <th>153</th>\n",
       "      <td>3233</td>\n",
       "      <td>Курьинский р</td>\n",
       "      <td>Село</td>\n",
       "      <td>53</td>\n",
       "      <td>1</td>\n",
       "      <td>ЭНЕРГЕТИЧЕСК</td>\n",
       "      <td>8.517193</td>\n",
       "      <td>1</td>\n",
       "      <td>0</td>\n",
       "      <td>2</td>\n",
       "      <td>...</td>\n",
       "      <td>0</td>\n",
       "      <td>0</td>\n",
       "      <td>0</td>\n",
       "      <td>0</td>\n",
       "      <td>0</td>\n",
       "      <td>0</td>\n",
       "      <td>0</td>\n",
       "      <td>1</td>\n",
       "      <td>0</td>\n",
       "      <td>0</td>\n",
       "    </tr>\n",
       "    <tr>\n",
       "      <th>154</th>\n",
       "      <td>3316</td>\n",
       "      <td>Курьинский р</td>\n",
       "      <td>Село</td>\n",
       "      <td>50</td>\n",
       "      <td>0</td>\n",
       "      <td>ЗДРАВООХРАНЕ</td>\n",
       "      <td>9.179881</td>\n",
       "      <td>1</td>\n",
       "      <td>1</td>\n",
       "      <td>2</td>\n",
       "      <td>...</td>\n",
       "      <td>1</td>\n",
       "      <td>0</td>\n",
       "      <td>0</td>\n",
       "      <td>0</td>\n",
       "      <td>0</td>\n",
       "      <td>0</td>\n",
       "      <td>0</td>\n",
       "      <td>0</td>\n",
       "      <td>1</td>\n",
       "      <td>0</td>\n",
       "    </tr>\n",
       "    <tr>\n",
       "      <th>155</th>\n",
       "      <td>3323</td>\n",
       "      <td>Курьинский р</td>\n",
       "      <td>Село</td>\n",
       "      <td>49</td>\n",
       "      <td>0</td>\n",
       "      <td>ТОРГОВЛЯ, БЫ</td>\n",
       "      <td>8.612503</td>\n",
       "      <td>0</td>\n",
       "      <td>1</td>\n",
       "      <td>3</td>\n",
       "      <td>...</td>\n",
       "      <td>0</td>\n",
       "      <td>1</td>\n",
       "      <td>0</td>\n",
       "      <td>0</td>\n",
       "      <td>0</td>\n",
       "      <td>0</td>\n",
       "      <td>0</td>\n",
       "      <td>0</td>\n",
       "      <td>0</td>\n",
       "      <td>1</td>\n",
       "    </tr>\n",
       "  </tbody>\n",
       "</table>\n",
       "<p>5 rows × 87 columns</p>\n",
       "</div>"
      ],
      "text/plain": [
       "     idind           psu status  age  male      industry     lnwage  public  \\\n",
       "151   3194  Курьинский р   Село   57     1  ЖИЛИЩНО-КОММ   9.392662       0   \n",
       "152   3232  Курьинский р   Село   49     0  НАУКА, КУЛЬТ  10.373490       1   \n",
       "153   3233  Курьинский р   Село   53     1  ЭНЕРГЕТИЧЕСК   8.517193       1   \n",
       "154   3316  Курьинский р   Село   50     0  ЗДРАВООХРАНЕ   9.179881       1   \n",
       "155   3323  Курьинский р   Село   49     0  ТОРГОВЛЯ, БЫ   8.612503       0   \n",
       "\n",
       "     internet  children  ...  id66  id67  id68  id69  id70  id71  id72  id73  \\\n",
       "151         1         1  ...     0     0     0     0     0     0     0     0   \n",
       "152         1         2  ...     0     0     0     0     0     0     0     0   \n",
       "153         0         2  ...     0     0     0     0     0     0     0     1   \n",
       "154         1         2  ...     1     0     0     0     0     0     0     0   \n",
       "155         1         3  ...     0     1     0     0     0     0     0     0   \n",
       "\n",
       "     id74  id75  \n",
       "151     0     0  \n",
       "152     1     0  \n",
       "153     0     0  \n",
       "154     1     0  \n",
       "155     0     1  \n",
       "\n",
       "[5 rows x 87 columns]"
      ]
     },
     "execution_count": 7,
     "metadata": {},
     "output_type": "execute_result"
    }
   ],
   "source": [
    "df = df[df['id45'] == 1]\n",
    "df.head()"
   ]
  },
  {
   "cell_type": "code",
   "execution_count": 8,
   "id": "69381ab5",
   "metadata": {},
   "outputs": [
    {
     "data": {
      "text/plain": [
       "151    1\n",
       "152    1\n",
       "153    1\n",
       "154    1\n",
       "155    1\n",
       "Name: my_var, dtype: int64"
      ]
     },
     "execution_count": 8,
     "metadata": {},
     "output_type": "execute_result"
    }
   ],
   "source": [
    "df['my_var'] = df['id45']\n",
    "df['my_var'].head()"
   ]
  },
  {
   "cell_type": "code",
   "execution_count": 9,
   "id": "37f1e5e1",
   "metadata": {},
   "outputs": [],
   "source": [
    "  df.drop([col for col in df.columns if \"id\" in col], axis=1, inplace=True)  \n",
    "    #удалить все столбцы, содержащие «id» в заголовке"
   ]
  },
  {
   "cell_type": "code",
   "execution_count": 10,
   "id": "a01cf99e",
   "metadata": {},
   "outputs": [
    {
     "data": {
      "text/html": [
       "<div>\n",
       "<style scoped>\n",
       "    .dataframe tbody tr th:only-of-type {\n",
       "        vertical-align: middle;\n",
       "    }\n",
       "\n",
       "    .dataframe tbody tr th {\n",
       "        vertical-align: top;\n",
       "    }\n",
       "\n",
       "    .dataframe thead th {\n",
       "        text-align: right;\n",
       "    }\n",
       "</style>\n",
       "<table border=\"1\" class=\"dataframe\">\n",
       "  <thead>\n",
       "    <tr style=\"text-align: right;\">\n",
       "      <th></th>\n",
       "      <th>psu</th>\n",
       "      <th>status</th>\n",
       "      <th>age</th>\n",
       "      <th>male</th>\n",
       "      <th>industry</th>\n",
       "      <th>lnwage</th>\n",
       "      <th>public</th>\n",
       "      <th>internet</th>\n",
       "      <th>children</th>\n",
       "      <th>urban</th>\n",
       "      <th>educ</th>\n",
       "      <th>my_var</th>\n",
       "    </tr>\n",
       "  </thead>\n",
       "  <tbody>\n",
       "    <tr>\n",
       "      <th>151</th>\n",
       "      <td>Курьинский р</td>\n",
       "      <td>Село</td>\n",
       "      <td>57</td>\n",
       "      <td>1</td>\n",
       "      <td>ЖИЛИЩНО-КОММ</td>\n",
       "      <td>9.392662</td>\n",
       "      <td>0</td>\n",
       "      <td>1</td>\n",
       "      <td>1</td>\n",
       "      <td>0</td>\n",
       "      <td>1</td>\n",
       "      <td>1</td>\n",
       "    </tr>\n",
       "    <tr>\n",
       "      <th>152</th>\n",
       "      <td>Курьинский р</td>\n",
       "      <td>Село</td>\n",
       "      <td>49</td>\n",
       "      <td>0</td>\n",
       "      <td>НАУКА, КУЛЬТ</td>\n",
       "      <td>10.373490</td>\n",
       "      <td>1</td>\n",
       "      <td>1</td>\n",
       "      <td>2</td>\n",
       "      <td>0</td>\n",
       "      <td>1</td>\n",
       "      <td>1</td>\n",
       "    </tr>\n",
       "    <tr>\n",
       "      <th>153</th>\n",
       "      <td>Курьинский р</td>\n",
       "      <td>Село</td>\n",
       "      <td>53</td>\n",
       "      <td>1</td>\n",
       "      <td>ЭНЕРГЕТИЧЕСК</td>\n",
       "      <td>8.517193</td>\n",
       "      <td>1</td>\n",
       "      <td>0</td>\n",
       "      <td>2</td>\n",
       "      <td>0</td>\n",
       "      <td>1</td>\n",
       "      <td>1</td>\n",
       "    </tr>\n",
       "    <tr>\n",
       "      <th>154</th>\n",
       "      <td>Курьинский р</td>\n",
       "      <td>Село</td>\n",
       "      <td>50</td>\n",
       "      <td>0</td>\n",
       "      <td>ЗДРАВООХРАНЕ</td>\n",
       "      <td>9.179881</td>\n",
       "      <td>1</td>\n",
       "      <td>1</td>\n",
       "      <td>2</td>\n",
       "      <td>0</td>\n",
       "      <td>2</td>\n",
       "      <td>1</td>\n",
       "    </tr>\n",
       "    <tr>\n",
       "      <th>155</th>\n",
       "      <td>Курьинский р</td>\n",
       "      <td>Село</td>\n",
       "      <td>49</td>\n",
       "      <td>0</td>\n",
       "      <td>ТОРГОВЛЯ, БЫ</td>\n",
       "      <td>8.612503</td>\n",
       "      <td>0</td>\n",
       "      <td>1</td>\n",
       "      <td>3</td>\n",
       "      <td>0</td>\n",
       "      <td>1</td>\n",
       "      <td>1</td>\n",
       "    </tr>\n",
       "  </tbody>\n",
       "</table>\n",
       "</div>"
      ],
      "text/plain": [
       "              psu status  age  male      industry     lnwage  public  \\\n",
       "151  Курьинский р   Село   57     1  ЖИЛИЩНО-КОММ   9.392662       0   \n",
       "152  Курьинский р   Село   49     0  НАУКА, КУЛЬТ  10.373490       1   \n",
       "153  Курьинский р   Село   53     1  ЭНЕРГЕТИЧЕСК   8.517193       1   \n",
       "154  Курьинский р   Село   50     0  ЗДРАВООХРАНЕ   9.179881       1   \n",
       "155  Курьинский р   Село   49     0  ТОРГОВЛЯ, БЫ   8.612503       0   \n",
       "\n",
       "     internet  children  urban  educ  my_var  \n",
       "151         1         1      0     1       1  \n",
       "152         1         2      0     1       1  \n",
       "153         0         2      0     1       1  \n",
       "154         1         2      0     2       1  \n",
       "155         1         3      0     1       1  "
      ]
     },
     "execution_count": 10,
     "metadata": {},
     "output_type": "execute_result"
    }
   ],
   "source": [
    "df.head()"
   ]
  },
  {
   "cell_type": "markdown",
   "id": "1f717fba",
   "metadata": {},
   "source": [
    "# Список переменных\n",
    "\n",
    "## регион - Алтайский край\n",
    "\n",
    "· public – 1 если государственное предприятие (в государственной собственности), 0 если частное;\n",
    "\n",
    "· lnwage – логарифм заработной платы, полученной за последние 30 дней по основному месту работы;\n",
    "\n",
    "· educ – уровень образования, категориальная переменная (0 для индивидов без среднего образования)\n",
    "\n",
    "1. среднее образование\n",
    "\n",
    "2. ПТУ, техническое училище\n",
    "\n",
    "3. институт, университет, академия\n",
    "\n",
    "· urban – 1 респондент проживает в городе, 0 в сельской местности;\n",
    "\n",
    "· male – пол, 1 для мужчин, 0 для женщин;\n",
    "\n",
    "· age – возраст в годах;\n",
    "\n",
    "· children – количество детей;\n",
    "\n",
    "· industry – отрасль занятости;\n",
    "\n",
    "1. ЛЕГКАЯ, ПИЩЕВАЯ ПРОМЫШЛЕННОСТЬ\n",
    "\n",
    "2. ГРАЖДАНСКОЕ МАШИНОСТРОЕНИЕ\n",
    "\n",
    "3. ВОЕННО-ПРОМЫШЛЕННЫЙ КОМПЛЕКС\n",
    "\n",
    "4. НЕФТЕГАЗОВАЯ ПРОМЫШЛЕННОСТЬ\n",
    "\n",
    "5. ДРУГАЯ ОТРАСЛЬ ТЯЖЕЛОЙ ПРОМЫШЛЕННОСТИ\n",
    "\n",
    "6. СТРОИТЕЛЬСТВО\n",
    "\n",
    "7. ТРАНСПОРТ, СВЯЗЬ\n",
    "\n",
    "8. СЕЛЬСКОЕ ХОЗЯЙСТВО\n",
    "\n",
    "9. ОРГАНЫ УПРАВЛЕНИЯ\n",
    "\n",
    "10. ОБРАЗОВАНИЕ\n",
    "\n",
    "11. НАУКА, КУЛЬТУРА\n",
    "\n",
    "12. ЗДРАВООХРАНЕНИЕ\n",
    "\n",
    "13. АРМИЯ, МВД, ОРГАНЫ БЕЗОПАСНОСТИ\n",
    "\n",
    "14. ТОРГОВЛЯ, БЫТОВОЕ ОБСЛУЖИВАНИЕ\n",
    "\n",
    "15. ФИНАНСЫ\n",
    "\n",
    "16. ЭНЕРГЕТИЧЕСКАЯ ПРОМЫШЛЕННОСТЬ\n",
    "\n",
    "17. ЖИЛИЩНО-КОММУНАЛЬНОЕ ХОЗЯЙСТВО\n",
    "\n",
    "18. ОПЕРАЦИИ С НЕДВИЖИМОСТЬЮ\n",
    "\n",
    "19. СОЦИАЛЬНОЕ ОБСЛУЖИВАНИЕ\n",
    "\n",
    "20. ЮРИСПРУДЕНЦИЯ\n",
    "\n",
    "21. ЦЕРКОВЬ\n",
    "\n",
    "22. ХИМИЧЕСКАЯ ПРОМЫШЛЕННОСТЬ\n",
    "\n",
    "23. ДЕРЕВООБРАБАТЫВАЮЩАЯ ПРОМЫШЛЕННОСТЬ, ЛЕ\n",
    "\n",
    "24. СПОРТ, ТУРИЗМ, РАЗВЛЕЧЕНИЯ\n",
    "\n",
    "25. УСЛУГИ НАСЕЛЕНИЮ\n",
    "\n",
    "26. IT, ИНФОРМАЦИОННЫЕ ТЕХНОЛОГИИ\n",
    "\n",
    "27. ЭКОЛОГИЯ, ЗАЩИТА ОКРУЖАЮЩЕЙ СРЕДЫ\n",
    "\n",
    "28. ОРГАНИЗАЦИЯ ОБЩЕСТВЕННОГО ПИТАНИЯ\n",
    "\n",
    "29. СМИ, ИЗДАТЕЛЬСТВО, ПЕЧАТЬ, ТЕЛЕКОММУНИК\n",
    "\n",
    "30. РЕКЛАМА, МАРКЕТИНГ\n",
    "\n",
    "31. ОБЩЕСТВЕННЫЕ ОРГАНИЗАЦИИ, СОВЕТ ВЕТЕРАН\n",
    "\n",
    "· internet – приходилось ли респонденту в течение последних 12 месяцев пользоваться Интернетом, 1 если да, 0 в противном случае;\n",
    "\n",
    "· psu – номер региона."
   ]
  },
  {
   "cell_type": "code",
   "execution_count": 11,
   "id": "c362f514",
   "metadata": {},
   "outputs": [
    {
     "name": "stdout",
     "output_type": "stream",
     "text": [
      "<class 'pandas.core.frame.DataFrame'>\n",
      "Int64Index: 157 entries, 151 to 3724\n",
      "Data columns (total 12 columns):\n",
      " #   Column    Non-Null Count  Dtype  \n",
      "---  ------    --------------  -----  \n",
      " 0   psu       157 non-null    object \n",
      " 1   status    157 non-null    object \n",
      " 2   age       157 non-null    int64  \n",
      " 3   male      157 non-null    int64  \n",
      " 4   industry  157 non-null    object \n",
      " 5   lnwage    157 non-null    float64\n",
      " 6   public    157 non-null    int64  \n",
      " 7   internet  157 non-null    int64  \n",
      " 8   children  157 non-null    int64  \n",
      " 9   urban     157 non-null    int64  \n",
      " 10  educ      157 non-null    int64  \n",
      " 11  my_var    157 non-null    int64  \n",
      "dtypes: float64(1), int64(8), object(3)\n",
      "memory usage: 15.9+ KB\n"
     ]
    }
   ],
   "source": [
    "df.info()"
   ]
  },
  {
   "cell_type": "code",
   "execution_count": 12,
   "id": "b045c2a3",
   "metadata": {},
   "outputs": [
    {
     "data": {
      "text/html": [
       "<div>\n",
       "<style scoped>\n",
       "    .dataframe tbody tr th:only-of-type {\n",
       "        vertical-align: middle;\n",
       "    }\n",
       "\n",
       "    .dataframe tbody tr th {\n",
       "        vertical-align: top;\n",
       "    }\n",
       "\n",
       "    .dataframe thead th {\n",
       "        text-align: right;\n",
       "    }\n",
       "</style>\n",
       "<table border=\"1\" class=\"dataframe\">\n",
       "  <thead>\n",
       "    <tr style=\"text-align: right;\">\n",
       "      <th></th>\n",
       "      <th>psu</th>\n",
       "      <th>status</th>\n",
       "      <th>industry</th>\n",
       "    </tr>\n",
       "  </thead>\n",
       "  <tbody>\n",
       "    <tr>\n",
       "      <th>count</th>\n",
       "      <td>157</td>\n",
       "      <td>157</td>\n",
       "      <td>157</td>\n",
       "    </tr>\n",
       "    <tr>\n",
       "      <th>unique</th>\n",
       "      <td>2</td>\n",
       "      <td>2</td>\n",
       "      <td>17</td>\n",
       "    </tr>\n",
       "    <tr>\n",
       "      <th>top</th>\n",
       "      <td>Бийск и Бийс</td>\n",
       "      <td>Город</td>\n",
       "      <td>ТОРГОВЛЯ, БЫ</td>\n",
       "    </tr>\n",
       "    <tr>\n",
       "      <th>freq</th>\n",
       "      <td>92</td>\n",
       "      <td>87</td>\n",
       "      <td>26</td>\n",
       "    </tr>\n",
       "  </tbody>\n",
       "</table>\n",
       "</div>"
      ],
      "text/plain": [
       "                 psu status      industry\n",
       "count            157    157           157\n",
       "unique             2      2            17\n",
       "top     Бийск и Бийс  Город  ТОРГОВЛЯ, БЫ\n",
       "freq              92     87            26"
      ]
     },
     "execution_count": 12,
     "metadata": {},
     "output_type": "execute_result"
    }
   ],
   "source": [
    "df.describe(include='object') #для категориальных переменных"
   ]
  },
  {
   "cell_type": "code",
   "execution_count": 94,
   "id": "68be1c79",
   "metadata": {},
   "outputs": [
    {
     "data": {
      "text/plain": [
       "(array([62., 63., 21.,  5.,  2.,  2.,  1.,  0.,  0.,  1.]),\n",
       " array([   999.99972102,  11799.96529177,  22599.93086252,  33399.89643327,\n",
       "         44199.86200402,  54999.82757477,  65799.79314552,  76599.75871627,\n",
       "         87399.72428702,  98199.68985777, 108999.65542851]),\n",
       " <BarContainer object of 10 artists>)"
      ]
     },
     "execution_count": 94,
     "metadata": {},
     "output_type": "execute_result"
    },
    {
     "data": {
      "image/png": "[encoded data removed]",
      "text/plain": [
       "<Figure size 1008x432 with 1 Axes>"
      ]
     },
     "metadata": {},
     "output_type": "display_data"
    }
   ],
   "source": [
    "res = [e**x for x in df.lnwage]\n",
    "plt.hist(res)"
   ]
  },
  {
   "cell_type": "code",
   "execution_count": 95,
   "id": "f282138a",
   "metadata": {},
   "outputs": [
    {
     "data": {
      "text/plain": [
       "Город    87\n",
       "Село     70\n",
       "Name: status, dtype: int64"
      ]
     },
     "execution_count": 95,
     "metadata": {},
     "output_type": "execute_result"
    }
   ],
   "source": [
    "df['status'].value_counts()"
   ]
  },
  {
   "cell_type": "code",
   "execution_count": 15,
   "id": "cf00ed64",
   "metadata": {},
   "outputs": [
    {
     "data": {
      "text/plain": [
       "1    123\n",
       "0     34\n",
       "Name: internet, dtype: int64"
      ]
     },
     "execution_count": 15,
     "metadata": {},
     "output_type": "execute_result"
    }
   ],
   "source": [
    "df['internet'].value_counts()"
   ]
  },
  {
   "cell_type": "code",
   "execution_count": 16,
   "id": "69c4bba8",
   "metadata": {},
   "outputs": [
    {
     "data": {
      "text/plain": [
       "Бийск и Бийс    92\n",
       "Курьинский р    65\n",
       "Name: psu, dtype: int64"
      ]
     },
     "execution_count": 16,
     "metadata": {},
     "output_type": "execute_result"
    }
   ],
   "source": [
    "df['psu'].value_counts()"
   ]
  },
  {
   "cell_type": "code",
   "execution_count": 17,
   "id": "57d0b0bb",
   "metadata": {},
   "outputs": [
    {
     "data": {
      "text/plain": [
       "public  male\n",
       "1       0       47\n",
       "0       1       41\n",
       "        0       39\n",
       "1       1       30\n",
       "dtype: int64"
      ]
     },
     "execution_count": 17,
     "metadata": {},
     "output_type": "execute_result"
    }
   ],
   "source": [
    "df[['public', 'male']].value_counts()"
   ]
  },
  {
   "cell_type": "code",
   "execution_count": 18,
   "id": "562c6c2e",
   "metadata": {},
   "outputs": [
    {
     "data": {
      "text/plain": [
       "0    86\n",
       "1    71\n",
       "Name: male, dtype: int64"
      ]
     },
     "execution_count": 18,
     "metadata": {},
     "output_type": "execute_result"
    }
   ],
   "source": [
    "df['male'].value_counts()"
   ]
  },
  {
   "cell_type": "code",
   "execution_count": 19,
   "id": "b28bd050",
   "metadata": {},
   "outputs": [
    {
     "data": {
      "text/plain": [
       "([<matplotlib.patches.Wedge at 0x7f8c4a7a4280>,\n",
       "  <matplotlib.patches.Wedge at 0x7f8c4a8b1280>,\n",
       "  <matplotlib.patches.Wedge at 0x7f8c4a7a4fd0>,\n",
       "  <matplotlib.patches.Wedge at 0x7f8c4a7a1760>],\n",
       " [Text(0.5372433205005935, 0.9598800000924578, 'среднее образование'),\n",
       "  Text(-1.0964783007081724, 0.08795075938341135, 'ПТУ, техническое училище'),\n",
       "  Text(0.18619394099326775, -1.0841272140931597, 'институт, университет, академия'),\n",
       "  Text(1.0629916461512632, -0.2829288960368449, 'без среднего образования')],\n",
       " [Text(0.2930418111821419, 0.5235709091413405, '33.8%'),\n",
       "  Text(-0.5980790731135486, 0.047973141481860736, '29.9%'),\n",
       "  Text(0.1015603314508733, -0.591342116778087, '28.0%'),\n",
       "  Text(0.5798136251734163, -0.15432485238373359, '8.3%')])"
      ]
     },
     "execution_count": 19,
     "metadata": {},
     "output_type": "execute_result"
    },
    {
     "data": {
      "image/png": "[encoded data removed]",
      "text/plain": [
       "<Figure size 432x288 with 1 Axes>"
      ]
     },
     "metadata": {},
     "output_type": "display_data"
    }
   ],
   "source": [
    "z = df['educ'].value_counts()\n",
    "labels = ['среднее образование', 'ПТУ, техническое училище', 'институт, университет, академия', 'без среднего образования']\n",
    "plt.pie(x = z, labels=labels, autopct='%1.1f%%')"
   ]
  },
  {
   "cell_type": "code",
   "execution_count": 20,
   "id": "bccf6b7f",
   "metadata": {},
   "outputs": [
    {
     "data": {
      "text/plain": [
       "([<matplotlib.patches.Wedge at 0x7f8c79806370>,\n",
       "  <matplotlib.patches.Wedge at 0x7f8c79806af0>,\n",
       "  <matplotlib.patches.Wedge at 0x7f8c68a391f0>,\n",
       "  <matplotlib.patches.Wedge at 0x7f8c68a39910>,\n",
       "  <matplotlib.patches.Wedge at 0x7f8c68a470a0>],\n",
       " [Text(0.2509002489293628, 1.0710037652068194, '2'),\n",
       "  Text(-0.8410747762238163, -0.7089380937712809, '1'),\n",
       "  Text(0.6659937045785784, -0.8754726640288099, '0'),\n",
       "  Text(1.0441027819257909, -0.34619269312743245, '3'),\n",
       "  Text(1.099119224615097, -0.044010567838968985, '4')],\n",
       " [Text(0.13685468123419786, 0.5841838719309923, '42.7%'),\n",
       "  Text(-0.4587680597584452, -0.3866935056934259, '36.9%'),\n",
       "  Text(0.36326929340649733, -0.47753054401571443, '11.5%'),\n",
       "  Text(0.5695106083231586, -0.1888323780695086, '7.6%'),\n",
       "  Text(0.59951957706278, -0.024005764275801263, '1.3%')])"
      ]
     },
     "execution_count": 20,
     "metadata": {},
     "output_type": "execute_result"
    },
    {
     "data": {
      "image/png": "[encoded data removed]",
      "text/plain": [
       "<Figure size 432x288 with 1 Axes>"
      ]
     },
     "metadata": {},
     "output_type": "display_data"
    }
   ],
   "source": [
    "n = df['children'].value_counts()\n",
    "labels = ['2', '1','0', '3', '4' ]\n",
    "plt.pie(x = n, labels=labels, autopct='%1.1f%%')"
   ]
  },
  {
   "cell_type": "code",
   "execution_count": 21,
   "id": "b895c8f1",
   "metadata": {},
   "outputs": [
    {
     "name": "stdout",
     "output_type": "stream",
     "text": [
      "ТОРГОВЛЯ, БЫ    0.165605\n",
      "ОБРАЗОВАНИЕ     0.121019\n",
      "ЗДРАВООХРАНЕ    0.101911\n",
      "ЛЕГКАЯ, ПИЩЕ    0.082803\n",
      "СЕЛЬСКОЕ ХОЗ    0.063694\n",
      "ТРАНСПОРТ, С    0.063694\n",
      "СТРОИТЕЛЬСТВ    0.057325\n",
      "ЖИЛИЩНО-КОММ    0.050955\n",
      "АРМИЯ, МВД,     0.050955\n",
      "НАУКА, КУЛЬТ    0.044586\n",
      "ГРАЖДАНСКОЕ     0.044586\n",
      "ВОЕННО-ПРОМЫ    0.038217\n",
      "ОРГАНЫ УПРАВ    0.031847\n",
      "ДРУГАЯ ОТРАС    0.025478\n",
      "НЕФТЕГАЗОВАЯ    0.025478\n",
      "ЭНЕРГЕТИЧЕСК    0.019108\n",
      "ФИНАНСЫ         0.012739\n",
      "Name: industry, dtype: float64\n"
     ]
    },
    {
     "data": {
      "text/plain": [
       "Text(0, 0.5, '')"
      ]
     },
     "execution_count": 21,
     "metadata": {},
     "output_type": "execute_result"
    },
    {
     "data": {
      "image/png": "[encoded data removed]",
      "text/plain": [
       "<Figure size 576x576 with 1 Axes>"
      ]
     },
     "metadata": {},
     "output_type": "display_data"
    }
   ],
   "source": [
    " g = df['industry'].value_counts(normalize=True) #параметр считает процентное распределение\n",
    "print(g)\n",
    "labels = ['ТОРГОВЛЯ, БЫ', 'ОБРАЗОВАНИЕ', 'ЗДРАВООХРАНЕ', 'ЛЕГКАЯ, ПИЩЕ', 'СЕЛЬСКОЕ ХОЗ', 'ТРАНСПОРТ, С', 'СТРОИТЕЛЬСТВ', 'ЖИЛИЩНО-КОММ', 'АРМИЯ, МВД,', 'НАУКА, КУЛЬТ', 'ГРАЖДАНСКОЕ', 'ВОЕННО-ПРОМЫ', 'ОРГАНЫ УПРАВ', 'ДРУГАЯ ОТРАС ', 'НЕФТЕГАЗОВАЯ', 'ЭНЕРГЕТИЧЕСК', 'ФИНАНСЫ' ]\n",
    "g.plot(kind='pie', labels=labels, autopct='%1.1f%%',  figsize=(8, 8))\n",
    "plt.ylabel(\"\")"
   ]
  },
  {
   "cell_type": "code",
   "execution_count": 22,
   "id": "54b34952",
   "metadata": {},
   "outputs": [
    {
     "data": {
      "text/plain": [
       "17"
      ]
     },
     "execution_count": 22,
     "metadata": {},
     "output_type": "execute_result"
    }
   ],
   "source": [
    "g.count()"
   ]
  },
  {
   "cell_type": "code",
   "execution_count": 23,
   "id": "3cd3aa2b",
   "metadata": {},
   "outputs": [
    {
     "name": "stderr",
     "output_type": "stream",
     "text": [
      "/Users/psychicks/opt/anaconda3/lib/python3.9/site-packages/seaborn/_decorators.py:36: FutureWarning: Pass the following variable as a keyword arg: x. From version 0.12, the only valid positional argument will be `data`, and passing other arguments without an explicit keyword will result in an error or misinterpretation.\n",
      "  warnings.warn(\n"
     ]
    },
    {
     "data": {
      "image/png": "[encoded data removed]",
      "text/plain": [
       "<Figure size 2160x720 with 1 Axes>"
      ]
     },
     "metadata": {
      "needs_background": "light"
     },
     "output_type": "display_data"
    }
   ],
   "source": [
    "#нужно построить процентное распределение\n",
    "g = sns.catplot('industry', data=df, kind='count')\n",
    "g.fig.set_size_inches(30,10) "
   ]
  },
  {
   "cell_type": "code",
   "execution_count": 24,
   "id": "087de839",
   "metadata": {},
   "outputs": [
    {
     "data": {
      "text/plain": [
       "<AxesSubplot:>"
      ]
     },
     "execution_count": 24,
     "metadata": {},
     "output_type": "execute_result"
    },
    {
     "data": {
      "image/png": "[encoded data removed]",
      "text/plain": [
       "<Figure size 1008x432 with 1 Axes>"
      ]
     },
     "metadata": {
      "needs_background": "light"
     },
     "output_type": "display_data"
    }
   ],
   "source": [
    "df['age'].hist(bins=10, figsize=(14,6))"
   ]
  },
  {
   "cell_type": "markdown",
   "id": "d19aafe9",
   "metadata": {},
   "source": [
    "## Задание 1. \n",
    "\n",
    "#### Опишите вашу выборку \n",
    "\n",
    "Кластерная выборка, состаящая из жителей Алтайского края, примерно в равной степени представлена:\n",
    "\n",
    "- горожанами и селянами\n",
    "- женщинами и мужчинами\n",
    "- работниками частных и государственных учреждений\n",
    "- респондентами с уровнем образования\n",
    "   1. среднее образование\n",
    "   2. ПТУ, техническое училище\n",
    "   3. институт, университет, академия\n",
    "\n",
    "Возраст опрошенных: 20-60, незначительно преобладают респонденты средневозрастного диапазона\n",
    "\n",
    "Большинство из опрошенных:\n",
    "\n",
    "- пользовались интернетом в течении года\n",
    "- имеют 1-2 детей\n",
    "\n",
    "Регион представлен 17 видами промышленных отраслей, примерно половина жителей занята в сферах:\n",
    "\n",
    "- торговли и быта\n",
    "- здравоохранения\n",
    "- образования\n",
    "- легкой и пищевой\n",
    "\n",
    "Средний уровень зарплат в регионе - 13.000 руб. Длинный правый хвост, есть выбросы\n",
    "\n",
    "#### Что является в Вашем случае генеральной совокупностью?\n",
    "\n",
    "жители Алтайского края, находящиеся в трудоспособном возрасте\n",
    "\n",
    "####  Как можно проверить репрезентативность Вашей выборки? (описать словами, не проверять). \n",
    "\n",
    "- можно посчитать [предельную ошибку выборки, стандартное отклонение и доверительный интервал](https://scanmarket.ru/blog/vyborka-razmer-ne-glavnoe-ili-glavnoe)\n",
    "- необходимо убедиться, что\n",
    "\n",
    "   Генеральная совокупность значительно больше выборки\n",
    "   \n",
    "   Произведения n*p и n*(1-p), где n=размер выборки а p=доля признака, – не меньше 5.\n",
    "\n"
   ]
  },
  {
   "cell_type": "markdown",
   "id": "97eca4d3",
   "metadata": {},
   "source": [
    "## Задание 2. \n",
    "Рассчитайте описательные статистики (минимум, максимум, среднее значение, стандартное отклонение, размах) для всех переменных в Вашей выборке кроме отрасли и номера региона.\n"
   ]
  },
  {
   "cell_type": "code",
   "execution_count": 26,
   "id": "04159828",
   "metadata": {},
   "outputs": [
    {
     "data": {
      "text/html": [
       "<div>\n",
       "<style scoped>\n",
       "    .dataframe tbody tr th:only-of-type {\n",
       "        vertical-align: middle;\n",
       "    }\n",
       "\n",
       "    .dataframe tbody tr th {\n",
       "        vertical-align: top;\n",
       "    }\n",
       "\n",
       "    .dataframe thead th {\n",
       "        text-align: right;\n",
       "    }\n",
       "</style>\n",
       "<table border=\"1\" class=\"dataframe\">\n",
       "  <thead>\n",
       "    <tr style=\"text-align: right;\">\n",
       "      <th></th>\n",
       "      <th>age</th>\n",
       "      <th>male</th>\n",
       "      <th>lnwage</th>\n",
       "      <th>public</th>\n",
       "      <th>internet</th>\n",
       "      <th>children</th>\n",
       "      <th>urban</th>\n",
       "      <th>educ</th>\n",
       "      <th>my_var</th>\n",
       "    </tr>\n",
       "  </thead>\n",
       "  <tbody>\n",
       "    <tr>\n",
       "      <th>count</th>\n",
       "      <td>157.000000</td>\n",
       "      <td>157.000000</td>\n",
       "      <td>157.000000</td>\n",
       "      <td>157.000000</td>\n",
       "      <td>157.000000</td>\n",
       "      <td>157.000000</td>\n",
       "      <td>157.000000</td>\n",
       "      <td>157.000000</td>\n",
       "      <td>157.0</td>\n",
       "    </tr>\n",
       "    <tr>\n",
       "      <th>mean</th>\n",
       "      <td>42.630573</td>\n",
       "      <td>0.452229</td>\n",
       "      <td>9.491133</td>\n",
       "      <td>0.490446</td>\n",
       "      <td>0.783439</td>\n",
       "      <td>1.503185</td>\n",
       "      <td>0.554140</td>\n",
       "      <td>1.777070</td>\n",
       "      <td>1.0</td>\n",
       "    </tr>\n",
       "    <tr>\n",
       "      <th>std</th>\n",
       "      <td>10.371489</td>\n",
       "      <td>0.499305</td>\n",
       "      <td>0.686858</td>\n",
       "      <td>0.501508</td>\n",
       "      <td>0.413219</td>\n",
       "      <td>0.844471</td>\n",
       "      <td>0.498651</td>\n",
       "      <td>0.951374</td>\n",
       "      <td>0.0</td>\n",
       "    </tr>\n",
       "    <tr>\n",
       "      <th>min</th>\n",
       "      <td>20.000000</td>\n",
       "      <td>0.000000</td>\n",
       "      <td>6.907755</td>\n",
       "      <td>0.000000</td>\n",
       "      <td>0.000000</td>\n",
       "      <td>0.000000</td>\n",
       "      <td>0.000000</td>\n",
       "      <td>0.000000</td>\n",
       "      <td>1.0</td>\n",
       "    </tr>\n",
       "    <tr>\n",
       "      <th>25%</th>\n",
       "      <td>35.000000</td>\n",
       "      <td>0.000000</td>\n",
       "      <td>9.179881</td>\n",
       "      <td>0.000000</td>\n",
       "      <td>1.000000</td>\n",
       "      <td>1.000000</td>\n",
       "      <td>0.000000</td>\n",
       "      <td>1.000000</td>\n",
       "      <td>1.0</td>\n",
       "    </tr>\n",
       "    <tr>\n",
       "      <th>50%</th>\n",
       "      <td>44.000000</td>\n",
       "      <td>0.000000</td>\n",
       "      <td>9.532424</td>\n",
       "      <td>0.000000</td>\n",
       "      <td>1.000000</td>\n",
       "      <td>2.000000</td>\n",
       "      <td>1.000000</td>\n",
       "      <td>2.000000</td>\n",
       "      <td>1.0</td>\n",
       "    </tr>\n",
       "    <tr>\n",
       "      <th>75%</th>\n",
       "      <td>50.000000</td>\n",
       "      <td>1.000000</td>\n",
       "      <td>9.903487</td>\n",
       "      <td>1.000000</td>\n",
       "      <td>1.000000</td>\n",
       "      <td>2.000000</td>\n",
       "      <td>1.000000</td>\n",
       "      <td>3.000000</td>\n",
       "      <td>1.0</td>\n",
       "    </tr>\n",
       "    <tr>\n",
       "      <th>max</th>\n",
       "      <td>60.000000</td>\n",
       "      <td>1.000000</td>\n",
       "      <td>11.599100</td>\n",
       "      <td>1.000000</td>\n",
       "      <td>1.000000</td>\n",
       "      <td>4.000000</td>\n",
       "      <td>1.000000</td>\n",
       "      <td>3.000000</td>\n",
       "      <td>1.0</td>\n",
       "    </tr>\n",
       "  </tbody>\n",
       "</table>\n",
       "</div>"
      ],
      "text/plain": [
       "              age        male      lnwage      public    internet    children  \\\n",
       "count  157.000000  157.000000  157.000000  157.000000  157.000000  157.000000   \n",
       "mean    42.630573    0.452229    9.491133    0.490446    0.783439    1.503185   \n",
       "std     10.371489    0.499305    0.686858    0.501508    0.413219    0.844471   \n",
       "min     20.000000    0.000000    6.907755    0.000000    0.000000    0.000000   \n",
       "25%     35.000000    0.000000    9.179881    0.000000    1.000000    1.000000   \n",
       "50%     44.000000    0.000000    9.532424    0.000000    1.000000    2.000000   \n",
       "75%     50.000000    1.000000    9.903487    1.000000    1.000000    2.000000   \n",
       "max     60.000000    1.000000   11.599100    1.000000    1.000000    4.000000   \n",
       "\n",
       "            urban        educ  my_var  \n",
       "count  157.000000  157.000000   157.0  \n",
       "mean     0.554140    1.777070     1.0  \n",
       "std      0.498651    0.951374     0.0  \n",
       "min      0.000000    0.000000     1.0  \n",
       "25%      0.000000    1.000000     1.0  \n",
       "50%      1.000000    2.000000     1.0  \n",
       "75%      1.000000    3.000000     1.0  \n",
       "max      1.000000    3.000000     1.0  "
      ]
     },
     "execution_count": 26,
     "metadata": {},
     "output_type": "execute_result"
    }
   ],
   "source": [
    "df.describe()"
   ]
  },
  {
   "cell_type": "code",
   "execution_count": 107,
   "id": "f2793e76",
   "metadata": {},
   "outputs": [
    {
     "name": "stdout",
     "output_type": "stream",
     "text": [
      "age         40.000000\n",
      "male         1.000000\n",
      "lnwage       4.691345\n",
      "public       1.000000\n",
      "internet     1.000000\n",
      "children     4.000000\n",
      "urban        1.000000\n",
      "educ         3.000000\n",
      "my_var       0.000000\n",
      "dtype: float64\n"
     ]
    }
   ],
   "source": [
    "# считаем размах\n",
    "\n",
    "df1 = df.select_dtypes(exclude=['object'])\n",
    "\n",
    "print(df1.apply(lambda x: max(x) - min(x)))"
   ]
  },
  {
   "cell_type": "markdown",
   "id": "2917e8b6",
   "metadata": {},
   "source": [
    "## Задание 3. \n",
    "Оцените квартили (25%, 50%, 75%) распределения для непрерывных переменных в выборке. Определите межквартильный размах. \n"
   ]
  },
  {
   "cell_type": "code",
   "execution_count": 28,
   "id": "6aa48297",
   "metadata": {},
   "outputs": [
    {
     "name": "stdout",
     "output_type": "stream",
     "text": [
      "квартиль 25%: 9.179881\n",
      "квартиль 50%: 9.532424\n",
      "квартиль 75%: 9.903487\n",
      "межквартильный размах: 0.7236060000000002\n"
     ]
    }
   ],
   "source": [
    "print(\"квартиль 25%:\", df['lnwage'].quantile(0.25))\n",
    "print(\"квартиль 50%:\", df['lnwage'].quantile(0.5))\n",
    "print(\"квартиль 75%:\",df['lnwage'].quantile(0.75))\n",
    "print(\"межквартильный размах:\", iqr(df['lnwage']))"
   ]
  },
  {
   "cell_type": "markdown",
   "id": "a748610c",
   "metadata": {},
   "source": [
    "## Задание 4. \n",
    "Сравните среднее значение, медиану и моду для непрерывных переменных в выборке. Что можно сказать об их соотношении?\n"
   ]
  },
  {
   "cell_type": "code",
   "execution_count": 108,
   "id": "a87bfc9a",
   "metadata": {},
   "outputs": [
    {
     "name": "stdout",
     "output_type": "stream",
     "text": [
      "среднее значение: 9.49113304458598\n",
      "медиана: 9.532424\n",
      "мода: 0    9.21034\n",
      "dtype: float64\n"
     ]
    },
    {
     "data": {
      "text/plain": [
       "Text(9.0261332, 44.320499999999996, 'Mode: 9.21')"
      ]
     },
     "execution_count": 108,
     "metadata": {},
     "output_type": "execute_result"
    },
    {
     "data": {
      "image/png": "[encoded data removed]",
      "text/plain": [
       "<Figure size 864x576 with 1 Axes>"
      ]
     },
     "metadata": {},
     "output_type": "display_data"
    }
   ],
   "source": [
    "print(\"среднее значение:\", df['lnwage'].mean())\n",
    "print(\"медиана:\", df['lnwage'].median())\n",
    "print(\"мода:\",df['lnwage'].mode())\n",
    "\n",
    "df['lnwage'].hist(figsize=(12,8))\n",
    "plt.axvline(df['lnwage'].mean(), color='k', linestyle='dashed', linewidth=1)\n",
    "min_ylim, max_ylim = plt.ylim() # координаты для текста\n",
    "plt.text(df['lnwage'].mean()*1.0, max_ylim*1.0, 'Mean: {:.2f}'.format(df['lnwage'].mean())) # добавить текст\n",
    "\n",
    "plt.axvline(df['lnwage'].median(), color='r', linestyle='dashed', linewidth=1)\n",
    "plt.text(df['lnwage'].median()*1.005, max_ylim*0.95, 'Median: {:.2f}'.format(df['lnwage'].median()), color='r',)\n",
    "\n",
    "plt.axvline(9.21034, color='g', linestyle='dashed', linewidth=1)\n",
    "plt.text(9.21034*0.98, max_ylim*1.005, 'Mode: {:.2f}'.format(9.21034), color='g')"
   ]
  },
  {
   "cell_type": "markdown",
   "id": "7e2097d4",
   "metadata": {},
   "source": [
    "## интерпретация\n",
    "\n",
    "на графике видно, что значения медианы и среднего lnwage расположены достаточно близко друг к другу, дальше всего располагается значение моды. \n",
    "слева направо: мода - среднее - медиана. такое соотношение не характерно для какого-либо распределения и говорит о возможной ошибке в данных*"
   ]
  },
  {
   "cell_type": "markdown",
   "id": "7f4e1cdc",
   "metadata": {},
   "source": [
    "## Задание 5. \n",
    "Постройте box-plot для всех непрерывных переменных. Есть ли выбросы? "
   ]
  },
  {
   "cell_type": "code",
   "execution_count": 30,
   "id": "63605b24",
   "metadata": {},
   "outputs": [
    {
     "name": "stderr",
     "output_type": "stream",
     "text": [
      "/Users/psychicks/opt/anaconda3/lib/python3.9/site-packages/seaborn/_decorators.py:36: FutureWarning: Pass the following variable as a keyword arg: x. From version 0.12, the only valid positional argument will be `data`, and passing other arguments without an explicit keyword will result in an error or misinterpretation.\n",
      "  warnings.warn(\n"
     ]
    },
    {
     "data": {
      "text/plain": [
       "<AxesSubplot:xlabel='lnwage'>"
      ]
     },
     "execution_count": 30,
     "metadata": {},
     "output_type": "execute_result"
    },
    {
     "data": {
      "image/png": "[encoded data removed]",
      "text/plain": [
       "<Figure size 1008x432 with 1 Axes>"
      ]
     },
     "metadata": {},
     "output_type": "display_data"
    }
   ],
   "source": [
    "sns.set(rc = {'figure.figsize':(14,6)}) # увеличить графичек\n",
    "sns.boxplot(df['lnwage'], orient=\"h\")"
   ]
  },
  {
   "cell_type": "markdown",
   "id": "e0773433",
   "metadata": {},
   "source": [
    "Выбросов немного, но они тем заметнее, что более 50% распределения располагается в интервале (9,10)"
   ]
  },
  {
   "cell_type": "markdown",
   "id": "f8ed4414",
   "metadata": {},
   "source": [
    "## Задание 6. \n",
    "Постройте гистограммы распределения для непрерывных переменных в выборке. Что можно сказать о скошенности (асимметрии) и островершинности их распределений? Рассчитайте соответствующие показатели (Skewness и Kurtosis) и сделайте выводы. "
   ]
  },
  {
   "cell_type": "code",
   "execution_count": 31,
   "id": "f8879871",
   "metadata": {},
   "outputs": [
    {
     "data": {
      "text/plain": [
       "<AxesSubplot:ylabel='Density'>"
      ]
     },
     "execution_count": 31,
     "metadata": {},
     "output_type": "execute_result"
    },
    {
     "data": {
      "image/png": "[encoded data removed]",
      "text/plain": [
       "<Figure size 1008x432 with 1 Axes>"
      ]
     },
     "metadata": {},
     "output_type": "display_data"
    }
   ],
   "source": [
    "df['lnwage'].hist(bins=15, density=True, figsize=(14,6))\n",
    "df['lnwage'].plot(kind='kde', linewidth=4)"
   ]
  },
  {
   "cell_type": "code",
   "execution_count": 32,
   "id": "a2c86a79",
   "metadata": {},
   "outputs": [
    {
     "name": "stdout",
     "output_type": "stream",
     "text": [
      "Skewness: -0.27878548412992243\n",
      "Kurtosis: 1.4117035769440296\n"
     ]
    }
   ],
   "source": [
    "from scipy.stats import skew, kurtosis\n",
    "\n",
    "s = skew(df['lnwage'], bias=False)\n",
    "k = kurtosis(df['lnwage'], bias=False)\n",
    "\n",
    "print('Skewness:', s)\n",
    "print('Kurtosis:', k)"
   ]
  },
  {
   "cell_type": "markdown",
   "id": "68bb1f8b",
   "metadata": {},
   "source": [
    "## интерпретация\n",
    "\n",
    "- отрицательное значение показателя Skewness (коэффициент асимметрии) говорит о скошенности распределения переменных lnwage влево\n",
    "\n",
    "- показатель Kurtosis (коэффициент островершинности) < 3 говорит о распределении с отрицательным эксцессом, имеющим плоскую вершину и тонкие хвосты"
   ]
  },
  {
   "cell_type": "markdown",
   "id": "85b8fab1",
   "metadata": {},
   "source": [
    "## Задание 7. \n",
    "Как распределены респонденты в Вашей выборке по уровню образования? Постройте гистограмму. "
   ]
  },
  {
   "cell_type": "code",
   "execution_count": 33,
   "id": "49a030ec",
   "metadata": {},
   "outputs": [],
   "source": [
    "a = df['educ'] \n",
    "\n",
    "def my_function(a):\n",
    "    \n",
    "    if a == 1:\n",
    "        return str('среднее образование')\n",
    "    if a == 2:\n",
    "        return str('ПТУ, техническое училище') \n",
    "    if a == 3:\n",
    "        return str('институт, университет, академия') \n",
    "    else:\n",
    "        return str('без среднего образования') \n",
    "    \n",
    "a = a.apply(my_function)"
   ]
  },
  {
   "cell_type": "code",
   "execution_count": 34,
   "id": "a5dee4b9",
   "metadata": {},
   "outputs": [
    {
     "data": {
      "text/plain": [
       "<AxesSubplot:>"
      ]
     },
     "execution_count": 34,
     "metadata": {},
     "output_type": "execute_result"
    },
    {
     "data": {
      "image/png": "[encoded data removed]",
      "text/plain": [
       "<Figure size 1008x432 with 1 Axes>"
      ]
     },
     "metadata": {},
     "output_type": "display_data"
    }
   ],
   "source": [
    "a.hist()"
   ]
  },
  {
   "cell_type": "markdown",
   "id": "d69d40ca",
   "metadata": {},
   "source": [
    "## Задание 8. \n",
    "Постройте 95% и 99% доверительные интервалы для математического ожидания и стандартного отклонения генеральной совокупности для логарифма заработной платы."
   ]
  },
  {
   "cell_type": "code",
   "execution_count": 35,
   "id": "502c9a2b",
   "metadata": {},
   "outputs": [
    {
     "name": "stdout",
     "output_type": "stream",
     "text": [
      "95% ДИ: (9.383693170775569, 9.598572918396393)\n",
      "99% ДИ: (9.34993311565188, 9.632332973520082)\n"
     ]
    }
   ],
   "source": [
    "from scipy import stats\n",
    "\n",
    "print('95% ДИ:', stats.norm.interval(0.95, df.lnwage.mean(), df.lnwage.std(ddof=1)/np.sqrt(df.lnwage.size)))\n",
    "print('99% ДИ:', stats.norm.interval(0.99, df.lnwage.mean(), df.lnwage.std(ddof=1)/np.sqrt(df.lnwage.size)))"
   ]
  },
  {
   "cell_type": "markdown",
   "id": "5cd92429",
   "metadata": {},
   "source": [
    "## Задание 9. \n",
    "Постройте 90% и 95% доверительный интервал для доли женщин в генеральной совокупности. "
   ]
  },
  {
   "cell_type": "code",
   "execution_count": 36,
   "id": "4244bf7d",
   "metadata": {},
   "outputs": [
    {
     "name": "stdout",
     "output_type": "stream",
     "text": [
      "90% ДИ:  (0.5071943267252744, 0.5883470745486109)\n",
      "95% ДИ:  (0.4994209689726754, 0.5961204323012099)\n"
     ]
    }
   ],
   "source": [
    "women = 1 - df.male.sum() / len(df.male)\n",
    "\n",
    "# 90% ДИ\n",
    "stats.norm().ppf(1 - 0.1/2)\n",
    "a = women - stats.norm().ppf(1 - 0.1/2) * np.sqrt( (women - (1-women)) / len(df.male) )\n",
    "b = women + stats.norm().ppf(1 - 0.1/2) * np.sqrt( (women - (1-women)) / len(df.male) )\n",
    "\n",
    "print('90% ДИ: ', (a, b))\n",
    "\n",
    "# 95% ДИ\n",
    "stats.norm().ppf(1 - 0.05/2)\n",
    "c = women - stats.norm().ppf(1 - 0.05/2) * np.sqrt( (women - (1-women)) / len(df.male) )\n",
    "d = women + stats.norm().ppf(1 - 0.05/2) * np.sqrt( (women - (1-women)) / len(df.male) )\n",
    "print('95% ДИ: ', (c, d))"
   ]
  },
  {
   "cell_type": "markdown",
   "id": "a0edf535",
   "metadata": {},
   "source": [
    "## Задание 10. \n",
    "Проверьте гипотезу, что матожидание логарифма заработной платы равно 10.17 против двусторонней и правосторонней альтернативной гипотезы. "
   ]
  },
  {
   "cell_type": "code",
   "execution_count": 37,
   "id": "7724a0cd",
   "metadata": {},
   "outputs": [],
   "source": [
    "#  H0: μ = 10.17 \n",
    "# двусторонняя H0: μ != 10.17 \n",
    "\n",
    "def mean_norm_test(x, mu0, alpha=0.05):\n",
    "    mn = x.mean() - mu0\n",
    "    st = x.std(ddof=1)/np.sqrt(x.size)\n",
    "    \n",
    "    t = mn/st # нашли наблюдаемое значение t-статистики\n",
    "    \n",
    "    # критическое значение t-статистики \n",
    "    q = stats.norm().ppf(1 - alpha/2)\n",
    "    \n",
    "    if (t < q) & (t > -q): # np.abs(t) < q\n",
    "        return \"Гипотеза не отвергается\"\n",
    "    else:\n",
    "        return \"Гипотеза отвергается\" "
   ]
  },
  {
   "cell_type": "code",
   "execution_count": 38,
   "id": "ce54b85c",
   "metadata": {},
   "outputs": [
    {
     "data": {
      "text/plain": [
       "'Гипотеза отвергается'"
      ]
     },
     "execution_count": 38,
     "metadata": {},
     "output_type": "execute_result"
    }
   ],
   "source": [
    "mean_norm_test(df.lnwage, mu0=10.17, alpha=0.1)"
   ]
  },
  {
   "cell_type": "code",
   "execution_count": 39,
   "id": "e39736e2",
   "metadata": {},
   "outputs": [],
   "source": [
    "# правосторонняя H1: μ > 10.17 \n",
    "\n",
    "def mean_norm_test1(x, mu0, alpha=0.05):\n",
    "    mn = x.mean() - mu0\n",
    "    st = x.std(ddof=1)/np.sqrt(x.size)\n",
    "    \n",
    "    t = mn/st # нашли наблюдаемое значение t-статистики\n",
    "    \n",
    "    # критическое значение t-статистики \n",
    "    q = stats.norm().ppf(1 - alpha)\n",
    "    \n",
    "    if t < q: # np.abs(t) < q\n",
    "        return \"Гипотеза не отвергается\"\n",
    "    else:\n",
    "        return \"Гипотеза отвергается\" "
   ]
  },
  {
   "cell_type": "code",
   "execution_count": 40,
   "id": "8e3a5ea4",
   "metadata": {},
   "outputs": [
    {
     "data": {
      "text/plain": [
       "'Гипотеза не отвергается'"
      ]
     },
     "execution_count": 40,
     "metadata": {},
     "output_type": "execute_result"
    }
   ],
   "source": [
    "mean_norm_test1(df.lnwage, mu0=10.17, alpha=0.1)"
   ]
  },
  {
   "cell_type": "markdown",
   "id": "987e7c1a",
   "metadata": {},
   "source": [
    "## Задание 11. \n",
    "Проверьте гипотезу, что матожидание логарифма заработной платы женщин ниже матожидания логарифма заработной платы мужчин. "
   ]
  },
  {
   "cell_type": "code",
   "execution_count": 82,
   "id": "c92b323c",
   "metadata": {},
   "outputs": [],
   "source": [
    "from scipy import integrate "
   ]
  },
  {
   "cell_type": "code",
   "execution_count": 83,
   "id": "f81f851a",
   "metadata": {},
   "outputs": [
    {
     "name": "stdout",
     "output_type": "stream",
     "text": [
      "        lnwage\n",
      "min   7.958577\n",
      "max  11.599100\n",
      "8.279950214838395\n"
     ]
    }
   ],
   "source": [
    "print(df[df1.male == 1].agg({'lnwage': ['min', 'max']}))\n",
    "\n",
    "func = lambda x: log(x) \n",
    "\n",
    "v,err = integrate.quad(func, 7.958577, 11.5991)\n",
    "print(v)"
   ]
  },
  {
   "cell_type": "code",
   "execution_count": 84,
   "id": "d311ff28",
   "metadata": {},
   "outputs": [
    {
     "name": "stdout",
     "output_type": "stream",
     "text": [
      "        lnwage\n",
      "min   6.907755\n",
      "max  10.859000\n",
      "8.597171290310055\n"
     ]
    }
   ],
   "source": [
    "print(df[df1.male == 0].agg({'lnwage': ['min', 'max']}))\n",
    "\n",
    "func = lambda x: log(x) \n",
    "\n",
    "v,err = integrate.quad(func, 6.907755, 10.859000)\n",
    "print(v)"
   ]
  },
  {
   "cell_type": "markdown",
   "id": "091c308b",
   "metadata": {},
   "source": [
    "Гипотеза не подтвердилась. Мат ожидание логарифма зарплат женщин выше, чем у мужчин."
   ]
  },
  {
   "cell_type": "markdown",
   "id": "e329a7e4",
   "metadata": {},
   "source": [
    "## Задание 12. \n",
    "Проверьте гипотезу, что дисперсия логарифма заработных плат работников, пользующихся Интернетом выше, чем дисперсия логарифма заработной платы работников, не пользующихся Интернетом. Примечание: выберите иной бинарный признак (тип населенного пункта, пол и т.д.), если в Вашей выборке нет различий по переменной «Интернет». "
   ]
  },
  {
   "cell_type": "code",
   "execution_count": 76,
   "id": "1da9ef5b",
   "metadata": {
    "scrolled": true
   },
   "outputs": [
    {
     "name": "stdout",
     "output_type": "stream",
     "text": [
      "дисперсия lnwage для не пользующихся интернетом: 0.6916491069986594\n",
      "дисперсия lnwage для пользующихся интернетом: 0.4107558609475674\n",
      "Гипотеза не подтвердилась\n"
     ]
    }
   ],
   "source": [
    "print('дисперсия lnwage для не пользующихся интернетом:', df[df.internet == 0].lnwage.var())\n",
    "print('дисперсия lnwage для пользующихся интернетом:',df[df.internet == 1].lnwage.var())"
   ]
  },
  {
   "cell_type": "markdown",
   "id": "a45fc25c",
   "metadata": {},
   "source": [
    "Гипотеза не подтвердилась. Дисперсия логарифма зарплат работников, пользующихся Интернетом ниже, чем у не пользующихся"
   ]
  },
  {
   "cell_type": "markdown",
   "id": "d734f2a1",
   "metadata": {},
   "source": [
    "## Задание 13. \n",
    "Проверьте гипотезу, что доля работников, имеющих одного ребенка равна 0,5 при односторонней альтернативной. "
   ]
  },
  {
   "cell_type": "code",
   "execution_count": 109,
   "id": "94c769f3",
   "metadata": {},
   "outputs": [
    {
     "data": {
      "text/plain": [
       "-3.2721562263172514"
      ]
     },
     "execution_count": 109,
     "metadata": {},
     "output_type": "execute_result"
    }
   ],
   "source": [
    "#  H0: p = 0,5\n",
    "# левосторонняя H1: p < 0,5\n",
    "# α = 0.1\n",
    "\n",
    "p1 = df[df['children'] == 1].children.sum() / len(df['children'])\n",
    "p = 0.5\n",
    "\n",
    "z = (p1 - p)/ np.sqrt( p* (1 - p) / len(df['children']) ) \n",
    "z\n",
    "\n",
    "# Standard normal: area to the right of -3.27215622 = 0.999466 (to the left: 0.000533653)\n",
    "\n",
    "# α = 0.1,  Critical value = -1.28155\n",
    "\n",
    "# z ∉ [-1.28155, ∞) \n"
   ]
  },
  {
   "cell_type": "markdown",
   "id": "b651f1fb",
   "metadata": {},
   "source": [
    "Гипотеза H0 не подтвердилась"
   ]
  },
  {
   "cell_type": "markdown",
   "id": "baf7afe1",
   "metadata": {},
   "source": [
    "## Задание 14. \n",
    "Постройте корреляционную таблицу для всех переменных в Вашей выборке кроме отрасли и номера региона. Проинтерпретируйте результаты. "
   ]
  },
  {
   "cell_type": "code",
   "execution_count": 126,
   "id": "77792547",
   "metadata": {},
   "outputs": [
    {
     "data": {
      "image/png": "[encoded data removed]",
      "text/plain": [
       "<Figure size 960x800 with 2 Axes>"
      ]
     },
     "metadata": {},
     "output_type": "display_data"
    }
   ],
   "source": [
    "df1 = df.drop(columns = ['psu','industry','status', 'my_var'])\n",
    "\n",
    "plt.figure(figsize=(12,10), dpi= 80)\n",
    "sns.heatmap(df1.corr(), xticklabels=df1.corr().columns, yticklabels=df1.corr().columns, cmap='RdYlGn', center=0, annot=True)\n",
    "\n",
    "plt.xticks(fontsize=12)\n",
    "plt.yticks(fontsize=12)\n",
    "plt.show()"
   ]
  },
  {
   "cell_type": "markdown",
   "id": "d01f01bf",
   "metadata": {},
   "source": [
    "#### интерпретация\n",
    "\n",
    "- Говоря о самых ярко выраженных данных, стоит отметить, что возраст положительно коррелирует с числом детей и отрицательно - с использованием интернета\n",
    "\n",
    "- Переменная lnwage положительно коррелирует с переменными male и educ, что логично, исходя из ее формулы.Точно так же наблюдается отрицательная корреляция с переменной public. Полученные результаты согласуются с данными приведенного   [исследования](https://elar.urfu.ru/bitstream/10995/34328/1/urrr_2015_156.pdf)\n",
    "\n",
    "- Можно говорить о несильно выраженной отрицательной корреляции возраста и наличия детей с переменной lnwage и положительной - для переменной urban\n",
    "\n",
    ">бонус: мужики менее образованы, а в городах больше частного сектора\n",
    "\n",
    "\n",
    "\n"
   ]
  },
  {
   "cell_type": "markdown",
   "id": "90d43d06",
   "metadata": {},
   "source": [
    "## Задание 15. \n",
    "Предположите зависимость логарифма заработной платы от каких-либо переменных в файле. Постройте графики, которые позволяют продемонстрировать эту зависимость."
   ]
  },
  {
   "cell_type": "code",
   "execution_count": 140,
   "id": "839a9e24",
   "metadata": {},
   "outputs": [
    {
     "name": "stderr",
     "output_type": "stream",
     "text": [
      "/Users/psychicks/opt/anaconda3/lib/python3.9/site-packages/seaborn/_decorators.py:36: FutureWarning: Pass the following variables as keyword args: x, y. From version 0.12, the only valid positional argument will be `data`, and passing other arguments without an explicit keyword will result in an error or misinterpretation.\n",
      "  warnings.warn(\n"
     ]
    },
    {
     "data": {
      "text/plain": [
       "<AxesSubplot:xlabel='public', ylabel='lnwage'>"
      ]
     },
     "execution_count": 140,
     "metadata": {},
     "output_type": "execute_result"
    },
    {
     "data": {
      "image/png": "[encoded data removed]",
      "text/plain": [
       "<Figure size 1008x432 with 1 Axes>"
      ]
     },
     "metadata": {},
     "output_type": "display_data"
    },
    {
     "data": {
      "image/png": "[encoded data removed]",
      "text/plain": [
       "<Figure size 1008x432 with 2 Axes>"
      ]
     },
     "metadata": {},
     "output_type": "display_data"
    }
   ],
   "source": [
    "sns.boxplot(a,'lnwage', data=df)\n",
    "\n",
    "fig, axes = plt.subplots(1, 2)\n",
    "sns.boxplot(ax=axes[0],x = 'male', y ='lnwage', data=df)\n",
    "sns.boxplot(ax=axes[1],x = 'public', y ='lnwage', data=df)"
   ]
  }
 ],
 "metadata": {
  "kernelspec": {
   "display_name": "Python 3 (ipykernel)",
   "language": "python",
   "name": "python3"
  },
  "language_info": {
   "codemirror_mode": {
    "name": "ipython",
    "version": 3
   },
   "file_extension": ".py",
   "mimetype": "text/x-python",
   "name": "python",
   "nbconvert_exporter": "python",
   "pygments_lexer": "ipython3",
   "version": "3.9.7"
  }
 },
 "nbformat": 4,
 "nbformat_minor": 5
}
